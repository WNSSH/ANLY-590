{
 "cells": [
  {
   "cell_type": "markdown",
   "metadata": {},
   "source": [
    "# Deep Learning Assignment 1"
   ]
  },
  {
   "cell_type": "markdown",
   "metadata": {},
   "source": [
    "### Guanzhi Wang\n",
    "### 9/10/2019"
   ]
  },
  {
   "cell_type": "markdown",
   "metadata": {},
   "source": [
    "## Problem 1"
   ]
  },
  {
   "cell_type": "markdown",
   "metadata": {},
   "source": [
    "Import packages"
   ]
  },
  {
   "cell_type": "code",
   "execution_count": 20,
   "metadata": {},
   "outputs": [],
   "source": [
    "import pandas as pd\n",
    "import numpy as np\n",
    "import matplotlib.pyplot as plt\n",
    "from sklearn.linear_model import Ridge, RidgeCV, Lasso, LassoCV\n",
    "from sklearn.model_selection import GridSearchCV"
   ]
  },
  {
   "cell_type": "code",
   "execution_count": 21,
   "metadata": {},
   "outputs": [],
   "source": [
    "#Read the data\n",
    "#Drop na and non-numeric columns\n",
    "#Split the data by X and Y\n",
    "hitters=pd.read_csv(\"Hitters.csv\")\n",
    "hitters=hitters.dropna()\n",
    "hitters=hitters.rename(columns = {'Unnamed: 0':'Name'})\n",
    "names=hitters[\"Name\"]\n",
    "hitters=hitters.select_dtypes([np.number])\n",
    "\n",
    "Y=hitters['Salary']\n",
    "\n",
    "X=hitters.drop('Salary',axis=1)"
   ]
  },
  {
   "cell_type": "markdown",
   "metadata": {},
   "source": [
    "### Lasso"
   ]
  },
  {
   "cell_type": "code",
   "execution_count": 22,
   "metadata": {},
   "outputs": [
    {
     "name": "stdout",
     "output_type": "stream",
     "text": [
      "The last three predictors are Hits,CRuns,CRBI.\n"
     ]
    },
    {
     "data": {
      "image/png": "[encoded data removed]",
      "text/plain": [
       "<Figure size 432x288 with 1 Axes>"
      ]
     },
     "metadata": {
      "needs_background": "light"
     },
     "output_type": "display_data"
    }
   ],
   "source": [
    "#Plot the coefficient trajectories. \n",
    "\n",
    "alphas = 10**np.linspace(6,-2,100)*0.5\n",
    "alphas\n",
    "lasso = Lasso(max_iter=100000,normalize = True)\n",
    "coefs = []\n",
    "legend=X.columns.tolist()\n",
    "for a in alphas:\n",
    "    lasso.set_params(alpha=a)\n",
    "    lasso.fit(X,Y)\n",
    "    coefs.append(lasso.coef_)\n",
    "    \n",
    "ax = plt.gca()\n",
    "\n",
    "ax.plot(alphas*2, coefs)\n",
    "ax.set_xscale('log')\n",
    "plt.axis('tight')\n",
    "plt.xlabel('alpha')\n",
    "plt.ylabel('Coefs')\n",
    "plt.legend(legend,loc='upper center',bbox_to_anchor=(0.5, -0.07),shadow=True, ncol=5)\n",
    "\n",
    "for a in coefs:\n",
    "    if (a>0).sum() == 3:\n",
    "        #print(a)\n",
    "        break\n",
    "print(\"The last three predictors are \"+legend[1]+\",\"+legend[10]+\",\"+legend[11]+\".\")"
   ]
  },
  {
   "cell_type": "code",
   "execution_count": 23,
   "metadata": {},
   "outputs": [
    {
     "name": "stdout",
     "output_type": "stream",
     "text": [
      "-116273.4332669456\n",
      "___________\n",
      "{'alpha': 0.06765238872899024}\n",
      "___________\n",
      "85\n",
      "___________\n",
      "Lasso(alpha=0.06765238872899024, copy_X=True, fit_intercept=True,\n",
      "      max_iter=100000, normalize=True, positive=False, precompute=False,\n",
      "      random_state=None, selection='cyclic', tol=0.0001, warm_start=False)\n",
      "the optimal alpha is: 0.0635481759985745\n"
     ]
    },
    {
     "name": "stderr",
     "output_type": "stream",
     "text": [
      "/Users/wangguanzhi/anaconda3/lib/python3.6/site-packages/sklearn/model_selection/_search.py:813: DeprecationWarning: The default of the `iid` parameter will change from True to False in version 0.22 and will be removed in 0.24. This will change numeric results when test-set sizes are unequal.\n",
      "  DeprecationWarning)\n"
     ]
    }
   ],
   "source": [
    "#Method1: gridsearch\n",
    "parameters={'alpha':list(alphas)}\n",
    "lasso_cv=GridSearchCV(lasso, parameters,scoring=\"neg_mean_squared_error\",cv=10)\n",
    "lasso_cv.fit(X,Y)\n",
    "print(lasso_cv.best_score_)\n",
    "print('___________')\n",
    "print(lasso_cv.best_params_)\n",
    "print('___________')\n",
    "print(lasso_cv.best_index_)\n",
    "print('___________')\n",
    "print(lasso_cv.best_estimator_)\n",
    "\n",
    "#Method2: LassoCV\n",
    "lassocv = LassoCV(alphas = None, cv = 10, max_iter = 100000, normalize = True)\n",
    "lassocv.fit(X, Y)\n",
    "print('the optimal alpha is: {}'.format(lassocv.alpha_))"
   ]
  },
  {
   "cell_type": "code",
   "execution_count": 24,
   "metadata": {},
   "outputs": [
    {
     "name": "stdout",
     "output_type": "stream",
     "text": [
      "[-2.08295369  7.04101066  0.         -0.68261512  0.49655158  5.51178063\n",
      " -6.10762506 -0.08706575  0.          0.15646752  1.22806115  0.58382084\n",
      " -0.69060051  0.29269419  0.30437223 -2.4507947 ]\n",
      "[-2.07316966  6.99574893  0.         -0.6079683   0.4843      5.4773209\n",
      " -6.30488944 -0.08250033  0.          0.17683343  1.20136744  0.57133453\n",
      " -0.68319178  0.29239459  0.3004192  -2.42930302]\n"
     ]
    }
   ],
   "source": [
    "lasso.set_params(alpha=lassocv.alpha_)\n",
    "lasso.fit(X,Y)\n",
    "print(lasso.coef_)\n",
    "\n",
    "lasso.set_params(alpha=0.06765238872899024)\n",
    "lasso.fit(X,Y)\n",
    "print(lasso.coef_)"
   ]
  },
  {
   "cell_type": "markdown",
   "metadata": {},
   "source": [
    "So the best alpha is about 0.0677. And there are 14 predictors remain."
   ]
  },
  {
   "cell_type": "markdown",
   "metadata": {},
   "source": [
    "### Ridge"
   ]
  },
  {
   "cell_type": "code",
   "execution_count": 25,
   "metadata": {},
   "outputs": [
    {
     "name": "stderr",
     "output_type": "stream",
     "text": [
      "/Users/wangguanzhi/anaconda3/lib/python3.6/site-packages/sklearn/model_selection/_search.py:813: DeprecationWarning: The default of the `iid` parameter will change from True to False in version 0.22 and will be removed in 0.24. This will change numeric results when test-set sizes are unequal.\n",
      "  DeprecationWarning)\n"
     ]
    },
    {
     "name": "stdout",
     "output_type": "stream",
     "text": [
      "-116554.66897754413\n",
      "___________\n",
      "{'alpha': 0.006609705742330144}\n",
      "___________\n",
      "98\n",
      "___________\n",
      "Ridge(alpha=0.006609705742330144, copy_X=True, fit_intercept=True,\n",
      "      max_iter=1000000, normalize=True, random_state=None, solver='auto',\n",
      "      tol=0.001)\n"
     ]
    },
    {
     "name": "stderr",
     "output_type": "stream",
     "text": [
      "/Users/wangguanzhi/anaconda3/lib/python3.6/site-packages/sklearn/model_selection/_search.py:813: DeprecationWarning: The default of the `iid` parameter will change from True to False in version 0.22 and will be removed in 0.24. This will change numeric results when test-set sizes are unequal.\n",
      "  DeprecationWarning)\n"
     ]
    },
    {
     "name": "stdout",
     "output_type": "stream",
     "text": [
      "the optimal alpha is: 0.006609705742330144\n"
     ]
    },
    {
     "data": {
      "image/png": "[encoded data removed]",
      "text/plain": [
       "<Figure size 432x288 with 1 Axes>"
      ]
     },
     "metadata": {
      "needs_background": "light"
     },
     "output_type": "display_data"
    }
   ],
   "source": [
    "#Plot coefficient trajectories.\n",
    "alphas = 10**np.linspace(10,-2,100)*0.5\n",
    "ridge=Ridge(max_iter=1000000,normalize=True)\n",
    "coefs2=[]\n",
    "for a in alphas:\n",
    "    ridge.set_params(alpha=a)\n",
    "    ridge.fit(X,Y)\n",
    "    coefs2.append(ridge.coef_)\n",
    "\n",
    "bx = plt.gca()\n",
    "\n",
    "bx.plot(alphas*2, coefs2)\n",
    "bx.set_xscale('log')\n",
    "plt.axis('tight')\n",
    "plt.xlabel('alpha')\n",
    "plt.ylabel('Coefs')\n",
    "plt.legend(legend,loc='upper center',bbox_to_anchor=(0.5, -0.07),shadow=True, ncol=5)\n",
    "\n",
    "#Method1: Gridsearch\n",
    "parameters={'alpha':list(alphas)}\n",
    "ridge_cv=GridSearchCV(ridge, parameters,scoring=\"neg_mean_squared_error\",cv=10)\n",
    "ridge_cv.fit(X,Y)\n",
    "print(ridge_cv.best_score_)\n",
    "print('___________')\n",
    "print(ridge_cv.best_params_)\n",
    "print('___________')\n",
    "print(ridge_cv.best_index_)\n",
    "print('___________')\n",
    "print(ridge_cv.best_estimator_)\n",
    "\n",
    "#Method2: RidgeCV\n",
    "ridgecv = RidgeCV(alphas = alphas, scoring = 'neg_mean_squared_error', normalize = True,cv=10)\n",
    "ridgecv.fit(X, Y)\n",
    "print('the optimal alpha is: {}'.format(ridgecv.alpha_))"
   ]
  },
  {
   "cell_type": "markdown",
   "metadata": {},
   "source": [
    "So the best alpha is about 0.0066."
   ]
  },
  {
   "cell_type": "markdown",
   "metadata": {},
   "source": [
    "## Problem 2"
   ]
  },
  {
   "cell_type": "markdown",
   "metadata": {},
   "source": [
    "If a model is very simple and has very few parameters then it may have high bias and low variance. If a model has large number of parameters then it’s going to have high variance and low bias. In that case, the bias-variance tradeoff is about to find the balance without overfitting and underfitting the data."
   ]
  },
  {
   "cell_type": "markdown",
   "metadata": {},
   "source": [
    "In our assignment, when we start the shrinkage, we are adding the bias but reducing the variance. We knocked out some predictors by changing their coefficients to 0."
   ]
  }
 ],
 "metadata": {
  "kernelspec": {
   "display_name": "Python 3",
   "language": "python",
   "name": "python3"
  },
  "language_info": {
   "codemirror_mode": {
    "name": "ipython",
    "version": 3
   },
   "file_extension": ".py",
   "mimetype": "text/x-python",
   "name": "python",
   "nbconvert_exporter": "python",
   "pygments_lexer": "ipython3",
   "version": "3.6.9"
  }
 },
 "nbformat": 4,
 "nbformat_minor": 2
}
