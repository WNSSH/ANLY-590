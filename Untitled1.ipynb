{
 "cells": [
  {
   "cell_type": "markdown",
   "metadata": {},
   "source": [
    "# Assignment 3"
   ]
  },
  {
   "cell_type": "markdown",
   "metadata": {},
   "source": [
    "\n",
    "\n",
    "\n"
   ]
  },
  {
   "cell_type": "code",
   "execution_count": 26,
   "metadata": {},
   "outputs": [],
   "source": [
    "import tensorflow as tf\n",
    "from tensorflow.keras.layers import Dropout,Conv1D,GlobalMaxPooling1D\n",
    "import pandas as pd\n",
    "import re\n",
    "from tensorflow.keras.preprocessing.text import Tokenizer\n",
    "from tensorflow.keras.preprocessing.sequence import pad_sequences\n",
    "from sklearn.model_selection import train_test_split\n",
    "from tensorflow.keras.datasets import fashion_mnist as mnist\n",
    "import numpy as np\n",
    "from tensorflow.keras.layers import Input, Dense, Conv2D, MaxPooling2D, UpSampling2D,Flatten\n",
    "from tensorflow.keras.models import Model\n",
    "import matplotlib.pyplot as plt\n",
    "from tensorflow.keras.utils import to_categorical\n",
    "import cv2\n",
    "from tensorflow.keras.applications.vgg16 import VGG16\n",
    "from sklearn.metrics import roc_curve, auc\n",
    "from tensorflow.keras.layers import LSTM,Embedding"
   ]
  },
  {
   "cell_type": "markdown",
   "metadata": {},
   "source": [
    "## 1 Autoencoder"
   ]
  },
  {
   "cell_type": "code",
   "execution_count": 17,
   "metadata": {},
   "outputs": [],
   "source": [
    "class AutoEncoder(object):\n",
    "    def __init__(self):\n",
    "        self.model = self.build_model()\n",
    "        \n",
    "\n",
    "    def build_model(self):\n",
    "        input_img = Input(shape=(28, 28, 1)) \n",
    "        x = Conv2D(16, (3, 3), activation='relu', padding='same')(input_img)\n",
    "        x = MaxPooling2D((2, 2), padding='same')(x)\n",
    "        x = Conv2D(8, (3, 3), activation='relu', padding='same')(x)\n",
    "        x = MaxPooling2D((2, 2), padding='same')(x)\n",
    "        x = Conv2D(8, (3, 3), activation='relu', padding='same')(x)\n",
    "        encoded = MaxPooling2D((2, 2), padding='same')(x)\n",
    "\n",
    "        x = Conv2D(8, (3, 3), activation='relu', padding='same')(encoded)\n",
    "        x = UpSampling2D((2, 2))(x)\n",
    "        x = Conv2D(8, (3, 3), activation='relu', padding='same')(x)\n",
    "        x = UpSampling2D((2, 2))(x)\n",
    "        x = Conv2D(16, (3, 3), activation='relu')(x)\n",
    "        x = UpSampling2D((2, 2))(x)\n",
    "        decoded = Conv2D(1, (3, 3), activation='sigmoid', padding='same')(x)\n",
    "\n",
    "        autoencoder = Model(input_img, decoded)\n",
    "        return autoencoder\n",
    "\n",
    "    def train(self,x_train,x_test):\n",
    "        self.model.compile(optimizer='adam', loss='binary_crossentropy')\n",
    "        self.model.summary()\n",
    "\n",
    "\n",
    "        self.model.fit(x_train, x_train,\n",
    "                        epochs=3,\n",
    "                        batch_size=128,\n",
    "                        shuffle=True,\n",
    "                        validation_data=(x_test, x_test))\n",
    "       \n",
    "\n",
    "    def encode_pred(self,x_test,n=10):\n",
    "        decoded_imgs = self.model.predict(x_test)\n",
    "\n",
    "        plt.figure(figsize=(n*2, 4))\n",
    "        for i in range(n):\n",
    "            # display original\n",
    "            ax = plt.subplot(2, n, i+1)\n",
    "            plt.imshow(x_test[i].reshape(28, 28))\n",
    "            plt.gray()\n",
    "            ax.get_xaxis().set_visible(False)\n",
    "            ax.get_yaxis().set_visible(False)\n",
    "\n",
    "            # display reconstruction\n",
    "            ax = plt.subplot(2, n, i + n+1)\n",
    "            plt.imshow(decoded_imgs[i].reshape(28, 28))\n",
    "            plt.gray()\n",
    "            ax.get_xaxis().set_visible(False)\n",
    "            ax.get_yaxis().set_visible(False)\n",
    "        plt.show()"
   ]
  },
  {
   "cell_type": "code",
   "execution_count": 18,
   "metadata": {},
   "outputs": [],
   "source": [
    "(x_train, _), (x_test, _) = mnist.load_data()\n",
    "\n",
    "x_train = x_train.astype('float32') / 255.\n",
    "x_test = x_test.astype('float32') / 255.\n",
    "x_train = np.reshape(x_train,(len(x_train), 28, 28, 1))\n",
    "x_test = np.reshape(x_test, (len(x_test), 28, 28, 1))"
   ]
  },
  {
   "cell_type": "code",
   "execution_count": 19,
   "metadata": {},
   "outputs": [
    {
     "name": "stdout",
     "output_type": "stream",
     "text": [
      "_________________________________________________________________\n",
      "Layer (type)                 Output Shape              Param #   \n",
      "=================================================================\n",
      "input_6 (InputLayer)         (None, 28, 28, 1)         0         \n",
      "_________________________________________________________________\n",
      "conv2d_32 (Conv2D)           (None, 28, 28, 16)        160       \n",
      "_________________________________________________________________\n",
      "max_pooling2d_15 (MaxPooling (None, 14, 14, 16)        0         \n",
      "_________________________________________________________________\n",
      "conv2d_33 (Conv2D)           (None, 14, 14, 8)         1160      \n",
      "_________________________________________________________________\n",
      "max_pooling2d_16 (MaxPooling (None, 7, 7, 8)           0         \n",
      "_________________________________________________________________\n",
      "conv2d_34 (Conv2D)           (None, 7, 7, 8)           584       \n",
      "_________________________________________________________________\n",
      "max_pooling2d_17 (MaxPooling (None, 4, 4, 8)           0         \n",
      "_________________________________________________________________\n",
      "conv2d_35 (Conv2D)           (None, 4, 4, 8)           584       \n",
      "_________________________________________________________________\n",
      "up_sampling2d_12 (UpSampling (None, 8, 8, 8)           0         \n",
      "_________________________________________________________________\n",
      "conv2d_36 (Conv2D)           (None, 8, 8, 8)           584       \n",
      "_________________________________________________________________\n",
      "up_sampling2d_13 (UpSampling (None, 16, 16, 8)         0         \n",
      "_________________________________________________________________\n",
      "conv2d_37 (Conv2D)           (None, 14, 14, 16)        1168      \n",
      "_________________________________________________________________\n",
      "up_sampling2d_14 (UpSampling (None, 28, 28, 16)        0         \n",
      "_________________________________________________________________\n",
      "conv2d_38 (Conv2D)           (None, 28, 28, 1)         145       \n",
      "=================================================================\n",
      "Total params: 4,385\n",
      "Trainable params: 4,385\n",
      "Non-trainable params: 0\n",
      "_________________________________________________________________\n",
      "Train on 60000 samples, validate on 10000 samples\n",
      "Epoch 1/3\n",
      "60000/60000 [==============================] - 52s 873us/step - loss: 45.7670 - val_loss: 40.2586\n",
      "Epoch 2/3\n",
      "60000/60000 [==============================] - 53s 881us/step - loss: 39.3471 - val_loss: 39.0182\n",
      "Epoch 3/3\n",
      "60000/60000 [==============================] - 52s 866us/step - loss: 38.4754 - val_loss: 38.4133\n"
     ]
    },
    {
     "data": {
      "image/png": "[encoded data removed]",
      "text/plain": [
       "<Figure size 1440x288 with 20 Axes>"
      ]
     },
     "metadata": {
      "needs_background": "light"
     },
     "output_type": "display_data"
    }
   ],
   "source": [
    "AE = AutoEncoder()\n",
    "AE.train(x_train,x_test)\n",
    "AE.encode_pred(x_test)"
   ]
  },
  {
   "cell_type": "markdown",
   "metadata": {},
   "source": [
    "## 2 Image Classification"
   ]
  },
  {
   "cell_type": "markdown",
   "metadata": {},
   "source": [
    "### 2.1 CNN"
   ]
  },
  {
   "cell_type": "code",
   "execution_count": 40,
   "metadata": {},
   "outputs": [],
   "source": [
    "class CNN():\n",
    "    def __init__(self):\n",
    "        self.model = self.build_model()\n",
    "\n",
    "    def build_model(self):\n",
    "        input_img = Input(shape=(28, 28, 1)) \n",
    "        x = Conv2D(32, (3, 3), activation='relu', padding='same')(input_img)\n",
    "        x = MaxPooling2D((2, 2), padding='same')(x)\n",
    "        x = Conv2D(32, (3, 3), activation='relu', padding='same')(x)\n",
    "        x = MaxPooling2D((2, 2), padding='same')(x)\n",
    "        x = Flatten()(x)\n",
    "        output = Dense(10,activation=\"softmax\")(x)\n",
    "        return Model(input_img,output)\n",
    "    def fit(self,x_train,y_train,x_test,y_test):\n",
    "        self.model = self.build_model()\n",
    "        self.model.compile(optimizer='adam', loss='categorical_crossentropy', metrics=['accuracy'])\n",
    "        self.model.summary()\n",
    "        self.model.fit(x_train, y_train,\n",
    "                       epochs=3,\n",
    "                       batch_size=128,\n",
    "                       shuffle=True,\n",
    "                       validation_data=(x_test, y_test))\n",
    "        #self.model.save_weights(\"../tmp/CNN_classifier/CVCNN.h5\", overwrite=True)\n",
    "        "
   ]
  },
  {
   "cell_type": "code",
   "execution_count": 41,
   "metadata": {},
   "outputs": [],
   "source": [
    "(x_train, y_train), (x_test, y_test) = mnist.load_data()\n",
    "x_train = x_train.astype('float32') / 255.\n",
    "x_test = x_test.astype('float32') / 255.\n",
    "x_train = np.reshape(x_train,(len(x_train), 28, 28, 1))\n",
    "x_test = np.reshape(x_test, (len(x_test), 28, 28, 1))\n",
    "y_train = to_categorical(y_train)\n",
    "y_test = to_categorical(y_test)"
   ]
  },
  {
   "cell_type": "code",
   "execution_count": 42,
   "metadata": {},
   "outputs": [
    {
     "name": "stdout",
     "output_type": "stream",
     "text": [
      "_________________________________________________________________\n",
      "Layer (type)                 Output Shape              Param #   \n",
      "=================================================================\n",
      "input_17 (InputLayer)        (None, 28, 28, 1)         0         \n",
      "_________________________________________________________________\n",
      "conv2d_53 (Conv2D)           (None, 28, 28, 32)        320       \n",
      "_________________________________________________________________\n",
      "max_pooling2d_32 (MaxPooling (None, 14, 14, 32)        0         \n",
      "_________________________________________________________________\n",
      "conv2d_54 (Conv2D)           (None, 14, 14, 32)        9248      \n",
      "_________________________________________________________________\n",
      "max_pooling2d_33 (MaxPooling (None, 7, 7, 32)          0         \n",
      "_________________________________________________________________\n",
      "flatten_7 (Flatten)          (None, 1568)              0         \n",
      "_________________________________________________________________\n",
      "dense_7 (Dense)              (None, 10)                15690     \n",
      "=================================================================\n",
      "Total params: 25,258\n",
      "Trainable params: 25,258\n",
      "Non-trainable params: 0\n",
      "_________________________________________________________________\n",
      "Train on 60000 samples, validate on 10000 samples\n",
      "Epoch 1/3\n",
      "60000/60000 [==============================] - 21s 345us/step - loss: 0.5865 - acc: 0.7922 - val_loss: 0.4480 - val_acc: 0.8358\n",
      "Epoch 2/3\n",
      "60000/60000 [==============================] - 20s 337us/step - loss: 0.3741 - acc: 0.8689 - val_loss: 0.3808 - val_acc: 0.8658\n",
      "Epoch 3/3\n",
      "60000/60000 [==============================] - 20s 336us/step - loss: 0.3306 - acc: 0.8825 - val_loss: 0.3521 - val_acc: 0.8730\n"
     ]
    }
   ],
   "source": [
    "fit1 = CNN()\n",
    "fit1.fit(x_train,y_train,x_test,y_test)"
   ]
  },
  {
   "cell_type": "markdown",
   "metadata": {},
   "source": [
    "### 2.2 Transfer Learning\n"
   ]
  },
  {
   "cell_type": "code",
   "execution_count": 3,
   "metadata": {},
   "outputs": [],
   "source": [
    "(x_train, y_train), (x_test, y_test) = mnist.load_data()\n",
    "x_train = [cv2.cvtColor(cv2.resize(i, (32,32)), cv2.COLOR_GRAY2BGR) for i in x_train]\n",
    "x_train = np.concatenate([arr[np.newaxis] for arr in x_train]).astype('float32')\n",
    "x_test = [cv2.cvtColor(cv2.resize(i, (32,32)), cv2.COLOR_GRAY2BGR) for i in x_test]\n",
    "x_test = np.concatenate([arr[np.newaxis] for arr in x_test]).astype('float32')"
   ]
  },
  {
   "cell_type": "code",
   "execution_count": 4,
   "metadata": {},
   "outputs": [
    {
     "name": "stdout",
     "output_type": "stream",
     "text": [
      "Train on 60000 samples, validate on 10000 samples\n",
      "Epoch 1/2\n",
      "60000/60000 [==============================] - 377s 6ms/step - loss: 0.7263 - acc: 0.7943 - val_loss: 0.5221 - val_acc: 0.8100\n",
      "Epoch 2/2\n",
      "60000/60000 [==============================] - 374s 6ms/step - loss: 0.4290 - acc: 0.8442 - val_loss: 0.4535 - val_acc: 0.8373\n"
     ]
    },
    {
     "data": {
      "text/plain": [
       "<tensorflow.python.keras.callbacks.History at 0x62db48a90>"
      ]
     },
     "execution_count": 4,
     "metadata": {},
     "output_type": "execute_result"
    }
   ],
   "source": [
    "model_vgg16_conv = VGG16(weights='imagenet', include_top=False)\n",
    "for layer in model_vgg16_conv.layers:\n",
    "    layer.trainable = False\n",
    "input_img = Input(shape=(32,32,3))\n",
    "output_vgg16_conv = model_vgg16_conv(input_img)\n",
    "x = Flatten()(output_vgg16_conv)\n",
    "x = Dense(300, activation='relu')(x)\n",
    "x = Dense(100, activation='relu')(x)\n",
    "x = Dense(10, activation='softmax')(x)\n",
    "pretrained_model = Model(inputs=input_img, outputs=x)\n",
    "pretrained_model.compile(loss='sparse_categorical_crossentropy', optimizer='adam', metrics=['accuracy'])\n",
    "pretrained_model.fit(x_train, y_train, validation_data=(x_test, y_test), epochs=2)"
   ]
  },
  {
   "cell_type": "markdown",
   "metadata": {},
   "source": [
    "## 3 Text Classification"
   ]
  },
  {
   "cell_type": "markdown",
   "metadata": {},
   "source": [
    "### RNN"
   ]
  },
  {
   "cell_type": "code",
   "execution_count": 22,
   "metadata": {},
   "outputs": [],
   "source": [
    "df = pd.read_csv('tweets_with_labels.csv',sep='\\t',error_bad_lines=False)\n",
    "df.dropna()\n",
    "\n",
    "df_labels = df[['k1', 'k2', 'k3', 'k4', 'k5', 'k6', 'k7', 'k8', 'k9','k10', 'k11', 'k12', 'k13', 'k14', 'k15']]\n",
    "\n",
    "\n",
    "def preprocess_text(sen):\n",
    "\n",
    "    sentence = re.sub('[^a-zA-Z]', ' ', sen)\n",
    "\n",
    "\n",
    "    sentence = re.sub(r\"\\s+[a-zA-Z]\\s+\", ' ', sentence)\n",
    "\n",
    "    sentence = re.sub(r'\\s+', ' ', sentence)\n",
    "\n",
    "    return sentence\n",
    "\n",
    "\n",
    "corpus = list(df[\"tweet\"])\n",
    "X = [preprocess_text(sen) for sen in corpus]\n",
    "y = df_labels.values\n",
    "\n",
    "X_train, X_test, y_train, y_test = train_test_split(X, y, test_size=0.3, random_state=23)\n",
    "tokenizer = Tokenizer(num_words=5000)\n",
    "tokenizer.fit_on_texts(X_train)\n",
    "\n",
    "X_train = tokenizer.texts_to_sequences(X_train)\n",
    "X_test = tokenizer.texts_to_sequences(X_test)\n",
    "\n",
    "vocab_size = len(tokenizer.word_index) + 1\n",
    "\n",
    "max_features = 10000\n",
    "\n",
    "max_len = 64\n",
    "\n",
    "X_train = pad_sequences(X_train, padding='post', maxlen=max_len)\n",
    "X_test = pad_sequences(X_test, padding='post', maxlen=max_len)"
   ]
  },
  {
   "cell_type": "code",
   "execution_count": 29,
   "metadata": {},
   "outputs": [],
   "source": [
    "class TextLSTM():\n",
    "    def __init__(self,max_len,max_features):\n",
    "        self.max_len = max_len\n",
    "        self.max_features = max_features\n",
    "        self.model = self.build_model()\n",
    "\n",
    "    def build_model(self):\n",
    "        input_sen = Input(shape=(self.max_len,))\n",
    "        x = Embedding(self.max_features, 32)(input_sen)\n",
    "        x = LSTM(32)(x)\n",
    "        output = Dense(15, activation='sigmoid')(x)\n",
    "        return Model(input_sen,output)\n",
    "\n",
    "    def fit(self,x_train,y_train,x_test,y_test):\n",
    "        self.model.compile(optimizer='adam', loss='categorical_crossentropy', metrics=['accuracy'])\n",
    "        self.model.summary()\n",
    "        res = self.model.fit(x_train, y_train,\n",
    "                       epochs=10,\n",
    "                       batch_size=64,\n",
    "                       shuffle=True,\n",
    "                       validation_data=(x_test, y_test))\n",
    "        \n",
    "        return res"
   ]
  },
  {
   "cell_type": "code",
   "execution_count": 30,
   "metadata": {},
   "outputs": [
    {
     "name": "stdout",
     "output_type": "stream",
     "text": [
      "_________________________________________________________________\n",
      "Layer (type)                 Output Shape              Param #   \n",
      "=================================================================\n",
      "input_1754 (InputLayer)      (None, 64)                0         \n",
      "_________________________________________________________________\n",
      "embedding_1750 (Embedding)   (None, 64, 32)            320000    \n",
      "_________________________________________________________________\n",
      "lstm_2 (LSTM)                (None, 32)                8320      \n",
      "_________________________________________________________________\n",
      "dense_5 (Dense)              (None, 15)                495       \n",
      "=================================================================\n",
      "Total params: 328,815\n",
      "Trainable params: 328,815\n",
      "Non-trainable params: 0\n",
      "_________________________________________________________________\n",
      "Train on 54562 samples, validate on 23384 samples\n",
      "Epoch 1/10\n",
      "54562/54562 [==============================] - 52s 958us/step - loss: 2.7109 - acc: 0.2820 - val_loss: 2.6690 - val_acc: 0.2920\n",
      "Epoch 2/10\n",
      "54562/54562 [==============================] - 46s 840us/step - loss: 2.6900 - acc: 0.2863 - val_loss: 2.6696 - val_acc: 0.2920\n",
      "Epoch 3/10\n",
      "54562/54562 [==============================] - 46s 837us/step - loss: 2.6897 - acc: 0.2863 - val_loss: 2.6707 - val_acc: 0.2920\n",
      "Epoch 4/10\n",
      "54562/54562 [==============================] - 46s 843us/step - loss: 2.6899 - acc: 0.2863 - val_loss: 2.6716 - val_acc: 0.2920\n",
      "Epoch 5/10\n",
      "54562/54562 [==============================] - 46s 850us/step - loss: 2.6902 - acc: 0.2861 - val_loss: 2.6686 - val_acc: 0.2920\n",
      "Epoch 6/10\n",
      "54562/54562 [==============================] - 45s 833us/step - loss: 2.6901 - acc: 0.2863 - val_loss: 2.6682 - val_acc: 0.2920\n",
      "Epoch 7/10\n",
      "54562/54562 [==============================] - 45s 833us/step - loss: 2.6897 - acc: 0.2863 - val_loss: 2.6692 - val_acc: 0.2920\n",
      "Epoch 8/10\n",
      "54562/54562 [==============================] - 46s 844us/step - loss: 2.6897 - acc: 0.2863 - val_loss: 2.6681 - val_acc: 0.2920\n",
      "Epoch 9/10\n",
      "54562/54562 [==============================] - 45s 827us/step - loss: 2.6895 - acc: 0.2863 - val_loss: 2.6689 - val_acc: 0.2920\n",
      "Epoch 10/10\n",
      "54562/54562 [==============================] - 46s 839us/step - loss: 2.6895 - acc: 0.2863 - val_loss: 2.6699 - val_acc: 0.2920\n"
     ]
    }
   ],
   "source": [
    "TL = TextLSTM(max_len,max_features)\n",
    "history_LSTM = TL.fit(X_train,y_train,X_test,y_test)"
   ]
  },
  {
   "cell_type": "markdown",
   "metadata": {},
   "source": [
    "## CNN"
   ]
  },
  {
   "cell_type": "code",
   "execution_count": 31,
   "metadata": {},
   "outputs": [
    {
     "name": "stdout",
     "output_type": "stream",
     "text": [
      "_________________________________________________________________\n",
      "Layer (type)                 Output Shape              Param #   \n",
      "=================================================================\n",
      "input_1755 (InputLayer)      (None, 64)                0         \n",
      "_________________________________________________________________\n",
      "embedding_1751 (Embedding)   (None, 64, 32)            320000    \n",
      "_________________________________________________________________\n",
      "conv1d (Conv1D)              (None, 64, 64)            6208      \n",
      "_________________________________________________________________\n",
      "global_max_pooling1d (Global (None, 64)                0         \n",
      "_________________________________________________________________\n",
      "dense_6 (Dense)              (None, 150)               9750      \n",
      "_________________________________________________________________\n",
      "dense_7 (Dense)              (None, 15)                2265      \n",
      "=================================================================\n",
      "Total params: 338,223\n",
      "Trainable params: 338,223\n",
      "Non-trainable params: 0\n",
      "_________________________________________________________________\n",
      "Train on 54562 samples, validate on 23384 samples\n",
      "Epoch 1/5\n",
      "54562/54562 [==============================] - 12s 220us/step - loss: 1.5283 - acc: 0.6949 - val_loss: 1.1400 - val_acc: 0.8197\n",
      "Epoch 2/5\n",
      "54562/54562 [==============================] - 8s 154us/step - loss: 1.1022 - acc: 0.8242 - val_loss: 1.0961 - val_acc: 0.8274\n",
      "Epoch 3/5\n",
      "54562/54562 [==============================] - 8s 154us/step - loss: 1.0483 - acc: 0.8348 - val_loss: 1.0817 - val_acc: 0.8263\n",
      "Epoch 4/5\n",
      "54562/54562 [==============================] - 8s 153us/step - loss: 1.0087 - acc: 0.8432 - val_loss: 1.0846 - val_acc: 0.8248\n",
      "Epoch 5/5\n",
      "54562/54562 [==============================] - 8s 154us/step - loss: 0.9791 - acc: 0.8491 - val_loss: 1.0947 - val_acc: 0.8223\n"
     ]
    }
   ],
   "source": [
    "class TextCNN():\n",
    "    def __init__(self,max_len,max_features):\n",
    "        self.max_len = max_len\n",
    "        self.max_features = max_features\n",
    "        self.model = self.build_model()\n",
    "\n",
    "    def build_model(self):\n",
    "        input_sen = Input(shape=(self.max_len,))\n",
    "        x = Embedding(self.max_features, 32)(input_sen)\n",
    "        x = Conv1D(64,3,padding='same',activation='relu',strides=1)(x)\n",
    "        x = GlobalMaxPooling1D()(x)\n",
    "        x = Dense(150,activation=\"relu\")(x)\n",
    "        output = Dense(15, activation='sigmoid')(x)\n",
    "        return Model(input_sen,output)\n",
    "\n",
    "    def fit(self,x_train,y_train,x_test,y_test):\n",
    "        self.model.compile(optimizer='adam', loss='categorical_crossentropy', metrics=['accuracy'])\n",
    "        self.model.summary()\n",
    "        res = self.model.fit(x_train, y_train,\n",
    "                       epochs=5,\n",
    "                       batch_size=64,\n",
    "                       shuffle=True,\n",
    "                       validation_data=(x_test, y_test))\n",
    "        return res\n",
    "TC = TextCNN(max_len,max_features)\n",
    "history_CNN = TC.fit(X_train,y_train,X_test,y_test)"
   ]
  },
  {
   "cell_type": "code",
   "execution_count": null,
   "metadata": {},
   "outputs": [],
   "source": []
  }
 ],
 "metadata": {
  "kernelspec": {
   "display_name": "Python 3",
   "language": "python",
   "name": "python3"
  },
  "language_info": {
   "codemirror_mode": {
    "name": "ipython",
    "version": 3
   },
   "file_extension": ".py",
   "mimetype": "text/x-python",
   "name": "python",
   "nbconvert_exporter": "python",
   "pygments_lexer": "ipython3",
   "version": "3.6.9"
  }
 },
 "nbformat": 4,
 "nbformat_minor": 2
}
